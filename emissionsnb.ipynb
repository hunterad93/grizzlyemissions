{
 "cells": [
  {
   "cell_type": "code",
   "execution_count": 2,
   "metadata": {},
   "outputs": [],
   "source": [
    "import streamlit as st\n",
    "import pandas as pd\n",
    "import plotly.express as px\n",
    "\n",
    "# Load the data\n",
    "customized_report = pd.read_csv('total.csv')\n",
    "normalized_data = pd.read_csv('per_student.csv')"
   ]
  },
  {
   "cell_type": "code",
   "execution_count": 3,
   "metadata": {},
   "outputs": [],
   "source": [
    "main_unit = 'GHG MTCDE'"
   ]
  },
  {
   "cell_type": "code",
   "execution_count": 4,
   "metadata": {},
   "outputs": [],
   "source": [
    "customized_report = customized_report[['Fiscal Year', 'Scope', 'Source', main_unit]]\n",
    "normalized_data = normalized_data[['Fiscal Year', 'Scope', 'Source', main_unit]]\n"
   ]
  },
  {
   "cell_type": "code",
   "execution_count": 5,
   "metadata": {},
   "outputs": [
    {
     "name": "stdout",
     "output_type": "stream",
     "text": [
      "object\n",
      "float64\n"
     ]
    }
   ],
   "source": [
    "print(customized_report[main_unit].dtype)\n",
    "print(normalized_data[main_unit].dtypes)"
   ]
  },
  {
   "cell_type": "code",
   "execution_count": 6,
   "metadata": {},
   "outputs": [],
   "source": [
    "customized_report[main_unit] = customized_report[main_unit].str.replace(',', '').astype(float)\n"
   ]
  },
  {
   "cell_type": "code",
   "execution_count": 7,
   "metadata": {},
   "outputs": [],
   "source": [
    "# Combine all sources with 'commuting' in their name into a single source named 'Commuting'\n",
    "customized_report['Source'] = customized_report['Source'].apply(lambda x: 'Commuting' if 'commuting' in x.lower() else x)\n",
    "normalized_data['Source'] = normalized_data['Source'].apply(lambda x: 'Commuting' if 'commuting' in x.lower() else x)\n",
    "\n",
    "# Combine all sources with 'co-gen' in their name into a single source named 'Co-gen Plant'\n",
    "def combine_sources(source):\n",
    "    if isinstance(source, str):\n",
    "        if 'co-gen' in source.lower():\n",
    "            return 'Co-gen Plant'\n",
    "        else:\n",
    "            return source\n",
    "    else:\n",
    "        return source\n",
    "\n",
    "customized_report['Source'] = customized_report['Source'].apply(combine_sources)\n",
    "normalized_data['Source'] = normalized_data['Source'].apply(combine_sources)\n",
    "\n"
   ]
  },
  {
   "cell_type": "code",
   "execution_count": 8,
   "metadata": {},
   "outputs": [],
   "source": [
    "# Sum up the 'Commuting' rows for each year\n",
    "customized_report = customized_report.groupby(['Fiscal Year', 'Scope', 'Source'], as_index=False)[main_unit].sum()\n",
    "normalized_data = normalized_data.groupby(['Fiscal Year', 'Scope', 'Source'], as_index=False)[main_unit].sum()\n"
   ]
  },
  {
   "cell_type": "code",
   "execution_count": 9,
   "metadata": {},
   "outputs": [],
   "source": [
    "cleaned_totals = customized_report\n",
    "cleaned_normalized = normalized_data\n"
   ]
  },
  {
   "cell_type": "code",
   "execution_count": 10,
   "metadata": {},
   "outputs": [
    {
     "name": "stdout",
     "output_type": "stream",
     "text": [
      "int64\n"
     ]
    }
   ],
   "source": [
    "print(cleaned_totals['Fiscal Year'].dtype)"
   ]
  },
  {
   "cell_type": "code",
   "execution_count": 11,
   "metadata": {},
   "outputs": [],
   "source": [
    "# Calculate the top 6 sources with highest combined emissions over time\n",
    "top_sources_totals = cleaned_totals.groupby('Source')[main_unit].sum().nlargest(6).index\n",
    "top_sources_normalized = cleaned_normalized.groupby('Source')[main_unit].sum().nlargest(6).index\n",
    "\n",
    "# Assign a new column 'source_level' to each dataframe\n",
    "# The value is 1 if the source is in the top 6 combined emissions over time, and 0 otherwise\n",
    "cleaned_totals['source_level'] = cleaned_totals['Source'].apply(lambda x: 1 if x in top_sources_totals else 0)\n",
    "cleaned_normalized['source_level'] = cleaned_normalized['Source'].apply(lambda x: 1 if x in top_sources_normalized else 0)\n"
   ]
  },
  {
   "cell_type": "code",
   "execution_count": 12,
   "metadata": {},
   "outputs": [
    {
     "name": "stdout",
     "output_type": "stream",
     "text": [
      "FERA\n",
      "Commuting\n",
      "T&D Losses\n",
      "Solid Waste\n",
      "Co-gen Plant\n",
      "Fertilizer & Animals\n",
      "Direct Transportation\n",
      "Purchased Electricity\n",
      "Other On-Campus Stationary\n",
      "Directly Financed Air Travel\n",
      "Other Directly Financed Travel\n"
     ]
    }
   ],
   "source": [
    "# Get unique sources from the dataframe\n",
    "sources = cleaned_totals['Source'].unique()\n",
    "\n",
    "# Sort sources by their length\n",
    "sorted_sources = sorted(sources, key=len)\n",
    "\n",
    "# Print the sorted sources\n",
    "for source in sorted_sources:\n",
    "    print(source)\n"
   ]
  },
  {
   "cell_type": "code",
   "execution_count": 13,
   "metadata": {},
   "outputs": [],
   "source": [
    "# Replace source names in both dataframes\n",
    "cleaned_totals['Source'] = cleaned_totals['Source'].replace({\n",
    "    'Fertilizer & Animals': 'Fertilizer',\n",
    "    'Co-gen steam': 'Co-gen Plant',\n",
    "    'Direct Transportation': 'University Fleet',\n",
    "    'Other On-Campus Stationary': 'Propane & Natural Gas',\n",
    "    'Directly Financed Air Travel': 'Air Travel',\n",
    "    'Solid Waste': 'Landfill Waste',\n",
    "    'Other Directly Financed Travel': 'Bus Travel'\n",
    "})\n",
    "cleaned_normalized['Source'] = cleaned_normalized['Source'].replace({\n",
    "    'Fertilizer & Animals': 'Fertilizer',\n",
    "    'Co-gen steam': 'Co-gen Plant',\n",
    "    'Direct Transportation': 'University Fleet',\n",
    "    'Other On-Campus Stationary': 'Propane & Natural Gas',\n",
    "    'Directly Financed Air Travel': 'Air Travel',\n",
    "    'Solid Waste': 'Landfill Waste',\n",
    "    'Other Directly Financed Travel': 'Bus Travel'\n",
    "})\n",
    "\n"
   ]
  },
  {
   "cell_type": "code",
   "execution_count": 14,
   "metadata": {},
   "outputs": [],
   "source": [
    "# Create a DataFrame with unique sources\n",
    "sources_df = pd.DataFrame(sorted_sources, columns=['Source'])\n",
    "\n",
    "# Save the DataFrame to a csv file\n",
    "sources_df.to_csv('blurbs.csv', index=False)\n"
   ]
  }
 ],
 "metadata": {
  "kernelspec": {
   "display_name": "streamlitenv",
   "language": "python",
   "name": "python3"
  },
  "language_info": {
   "codemirror_mode": {
    "name": "ipython",
    "version": 3
   },
   "file_extension": ".py",
   "mimetype": "text/x-python",
   "name": "python",
   "nbconvert_exporter": "python",
   "pygments_lexer": "ipython3",
   "version": "3.11.0"
  },
  "orig_nbformat": 4
 },
 "nbformat": 4,
 "nbformat_minor": 2
}
